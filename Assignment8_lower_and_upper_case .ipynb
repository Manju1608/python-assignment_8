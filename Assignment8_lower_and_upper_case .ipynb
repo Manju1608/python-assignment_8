{
  "nbformat": 4,
  "nbformat_minor": 0,
  "metadata": {
    "colab": {
      "name": "Welcome To Colaboratory",
      "provenance": [],
      "collapsed_sections": [],
      "include_colab_link": true
    },
    "kernelspec": {
      "display_name": "Python 3",
      "name": "python3"
    }
  },
  "cells": [
    {
      "cell_type": "markdown",
      "metadata": {
        "id": "view-in-github",
        "colab_type": "text"
      },
      "source": [
        "<a href=\"https://colab.research.google.com/github/Manju1608/python-assignment_8/blob/master/Assignment8_lower_and_upper_case%20.ipynb\" target=\"_parent\"><img src=\"https://colab.research.google.com/assets/colab-badge.svg\" alt=\"Open In Colab\"/></a>"
      ]
    },
    {
      "cell_type": "code",
      "metadata": {
        "id": "A-T_mrVm7a1_",
        "colab_type": "code",
        "colab": {
          "base_uri": "https://localhost:8080/",
          "height": 149
        },
        "outputId": "152b042e-da70-4ed9-e3a1-91763a26775e"
      },
      "source": [
        " user_input = input(\"My name is:\")print(\"My name is:\", user_input.upper())print(\"My nane is:\", user_input.lower())"
      ],
      "execution_count": 6,
      "outputs": [
        {
          "output_type": "error",
          "ename": "SyntaxError",
          "evalue": "ignored",
          "traceback": [
            "\u001b[0;36m  File \u001b[0;32m\"<ipython-input-6-38b47ab40512>\"\u001b[0;36m, line \u001b[0;32m1\u001b[0m\n\u001b[0;31m    user_input = input(\"My name is:\")print(\"My name is:\", user_input.upper())print(\"My nane is:\", user_input.lower())\u001b[0m\n\u001b[0m                                         ^\u001b[0m\n\u001b[0;31mSyntaxError\u001b[0m\u001b[0;31m:\u001b[0m invalid syntax\n"
          ]
        }
      ]
    }
  ]
}